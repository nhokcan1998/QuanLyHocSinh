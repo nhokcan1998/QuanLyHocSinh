{
  "nbformat": 4,
  "nbformat_minor": 0,
  "metadata": {
    "colab": {
      "name": "Copy of Python 02.ipynb",
      "provenance": [],
      "collapsed_sections": []
    },
    "kernelspec": {
      "name": "python3",
      "display_name": "Python 3"
    }
  },
  "cells": [
    {
      "cell_type": "markdown",
      "metadata": {
        "id": "wTc02PQEslqv"
      },
      "source": [
        "# Bài tập"
      ]
    },
    {
      "cell_type": "markdown",
      "metadata": {
        "id": "011koRxnsn5F"
      },
      "source": [
        "### B-1\n",
        "Tìm phần tử lớn nhất trong mảng hai chiều"
      ]
    },
    {
      "cell_type": "code",
      "metadata": {
        "id": "YQzIBtosslJ1"
      },
      "source": [
        "def max2d_array(arr):\n",
        "    # TODO\n",
        "    flat = arr[0][0]\n",
        "    for i in range(0,len(arr)):\n",
        "      for j in range(0,len(arr[i])):\n",
        "        if flat < arr[i][j]:\n",
        "          flat = arr[i][j]\n",
        "    return flat      \n"
      ],
      "execution_count": null,
      "outputs": []
    },
    {
      "cell_type": "code",
      "metadata": {
        "id": "wopRz0jtstfY",
        "outputId": "68287a5f-b560-4be4-dba9-553224dd7c69",
        "colab": {
          "base_uri": "https://localhost:8080/",
          "height": 34
        }
      },
      "source": [
        "arr = [\n",
        "    [1, 2, 5],\n",
        "    [3 , 5, 9],\n",
        "    [2,7,10,],\n",
        "    [9, 8, -3]\n",
        "]\n",
        "max2d_array(arr)"
      ],
      "execution_count": null,
      "outputs": [
        {
          "output_type": "execute_result",
          "data": {
            "text/plain": [
              "10"
            ]
          },
          "metadata": {
            "tags": []
          },
          "execution_count": 4
        }
      ]
    },
    {
      "cell_type": "markdown",
      "metadata": {
        "id": "cL_LP-tYt3Mj"
      },
      "source": [
        "### B-2\n",
        "Tạo ngẫu nhiên 5 sinh viên theo cấu trúc sau:"
      ]
    },
    {
      "cell_type": "code",
      "metadata": {
        "id": "Lo1mGxHduBLd"
      },
      "source": [
        "class_a = {\n",
        "    'sinhvien1': {\n",
        "        \"hovaten\": \"Nguyen Van A\",\n",
        "        \"tuoi\": 20,\n",
        "        \"diem\": [7,8.5,9]\n",
        "    },\n",
        "    'sinhvien2': {\n",
        "        \"hovaten\": \"Nguyen Van B\",\n",
        "        \"tuoi\": 21,\n",
        "        \"diem\": [7,8,9]\n",
        "    },\n",
        "    'sinhvien3': {\n",
        "        \"hovaten\": \"Nguyen Van C\",\n",
        "        \"tuoi\": 18,\n",
        "        \"diem\": [9,7,10]\n",
        "    },\n",
        "    'sinhvien4': {\n",
        "        \"hovaten\": \"Nguyen Van D\",\n",
        "        \"tuoi\": 22,\n",
        "        \"diem\": [8.5,6,9]\n",
        "    },\n",
        "    'sinhvien5': {\n",
        "        \"hovaten\": \"Nguyen Van E\",\n",
        "        \"tuoi\": 20,\n",
        "        \"diem\": [10,9,10]\n",
        "    }\n",
        "}"
      ],
      "execution_count": null,
      "outputs": []
    },
    {
      "cell_type": "markdown",
      "metadata": {
        "id": "CZcijrMtuY1_"
      },
      "source": [
        "Yêu cầu thêm 4 sinh viên khác theo cấu trúc trên. Và in ra `diem` của sinh vien thứ 3. (Giá trị tùy chọn)\n",
        "Mục đích làm quen với kiểu dict và truy xuất giá trị."
      ]
    },
    {
      "cell_type": "code",
      "metadata": {
        "id": "dqjna9XQu5tH",
        "outputId": "23fa0a74-a866-4725-c253-7570d2c9903d",
        "colab": {
          "base_uri": "https://localhost:8080/",
          "height": 34
        }
      },
      "source": [
        "# TODO in diem sinh viên thứ 3\n",
        "class_a['sinhvien3']['diem']"
      ],
      "execution_count": null,
      "outputs": [
        {
          "output_type": "execute_result",
          "data": {
            "text/plain": [
              "[9, 7, 10]"
            ]
          },
          "metadata": {
            "tags": []
          },
          "execution_count": 9
        }
      ]
    },
    {
      "cell_type": "code",
      "metadata": {
        "id": "zX5Ajso3utI8",
        "outputId": "970237ff-443e-4e47-f11c-ba8bdac78887",
        "colab": {
          "base_uri": "https://localhost:8080/",
          "height": 34
        }
      },
      "source": [
        "# ví dụ tuoi của sinh vien thứ 2\n",
        "class_a['sinhvien2']['tuoi']"
      ],
      "execution_count": null,
      "outputs": [
        {
          "output_type": "execute_result",
          "data": {
            "text/plain": [
              "21"
            ]
          },
          "metadata": {
            "tags": []
          },
          "execution_count": 10
        }
      ]
    },
    {
      "cell_type": "markdown",
      "metadata": {
        "id": "XZ55ZrguyRDS"
      },
      "source": [
        "#### B-3\n",
        "Bạn được cung cấp một chuỗi và nhiệm vụ của bạn là hoán đổi các trường hợp. Nói cách khác, chuyển đổi tất cả các chữ cái thường thành chữ hoa và ngược lại.\n",
        "Ví dụ:\n",
        "```\n",
        "Www.HackerRank.com → wWW.hACKERrANK.COM\n",
        "Pythonist 2 → pYTHONIST 2\n",
        "```"
      ]
    },
    {
      "cell_type": "code",
      "metadata": {
        "id": "o1TqoZ3Zyf7Q"
      },
      "source": [
        "def swap_case(s):\n",
        "    # TODO\n",
        "    result =''\n",
        "    for item in s:\n",
        "      if item.isupper():\n",
        "        result += item.lower()\n",
        "      elif item.islower():\n",
        "        result += item.upper()\n",
        "      elif item.isspace():\n",
        "        result += item\n",
        "      else:\n",
        "        result += item\n",
        "    return result"
      ],
      "execution_count": null,
      "outputs": []
    },
    {
      "cell_type": "code",
      "metadata": {
        "id": "aWdp25kdyhbJ",
        "outputId": "8d17ed74-9e2a-4dc1-f2e1-df3a78e3c21c",
        "colab": {
          "base_uri": "https://localhost:8080/",
          "height": 35
        }
      },
      "source": [
        "swap_case(\"Www.HackerRank.com\")"
      ],
      "execution_count": null,
      "outputs": [
        {
          "output_type": "execute_result",
          "data": {
            "application/vnd.google.colaboratory.intrinsic+json": {
              "type": "string"
            },
            "text/plain": [
              "'wWW.hACKERrANK.COM'"
            ]
          },
          "metadata": {
            "tags": []
          },
          "execution_count": 17
        }
      ]
    },
    {
      "cell_type": "code",
      "metadata": {
        "id": "Zjbd6tZ3yoho",
        "outputId": "24161e78-b84d-46e7-dab5-4e681aa9832f",
        "colab": {
          "base_uri": "https://localhost:8080/",
          "height": 35
        }
      },
      "source": [
        "swap_case(\"Pythonist 2\")"
      ],
      "execution_count": null,
      "outputs": [
        {
          "output_type": "execute_result",
          "data": {
            "application/vnd.google.colaboratory.intrinsic+json": {
              "type": "string"
            },
            "text/plain": [
              "'pYTHONIST 2'"
            ]
          },
          "metadata": {
            "tags": []
          },
          "execution_count": 18
        }
      ]
    },
    {
      "cell_type": "markdown",
      "metadata": {
        "id": "cJjBoKMhytRx"
      },
      "source": [
        "#### B-4\n",
        "Cho một số đếm tổng số chữ số trong một số"
      ]
    },
    {
      "cell_type": "code",
      "metadata": {
        "id": "ry-M1WwB2uWJ"
      },
      "source": [
        "def count_digit(n):\n",
        "    #TODO\n",
        "    icount = str(n)\n",
        "    return len(icount) "
      ],
      "execution_count": null,
      "outputs": []
    },
    {
      "cell_type": "code",
      "metadata": {
        "id": "riR3YtM72zHN",
        "outputId": "28771861-3119-46c6-a8de-edeacad05d3f",
        "colab": {
          "base_uri": "https://localhost:8080/",
          "height": 34
        }
      },
      "source": [
        "count_digit(4243) # -> 4"
      ],
      "execution_count": null,
      "outputs": [
        {
          "output_type": "execute_result",
          "data": {
            "text/plain": [
              "4"
            ]
          },
          "metadata": {
            "tags": []
          },
          "execution_count": 20
        }
      ]
    },
    {
      "cell_type": "code",
      "metadata": {
        "id": "L6C3Vig63Hdn"
      },
      "source": [
        ""
      ],
      "execution_count": null,
      "outputs": []
    },
    {
      "cell_type": "markdown",
      "metadata": {
        "id": "apyEqQro3IFi"
      },
      "source": [
        "#### B -5 \n",
        "Hãy thay đổi mức lương của Brad thành 8500"
      ]
    },
    {
      "cell_type": "code",
      "metadata": {
        "id": "ozrXx5NL3K0Z",
        "outputId": "d359311a-d49d-4530-8fea-0b535d5fee89",
        "colab": {
          "base_uri": "https://localhost:8080/",
          "height": 68
        }
      },
      "source": [
        "sampleDict = {\n",
        "     'emp1': {'name': 'Jhon', 'salary': 7500},\n",
        "     'emp2': {'name': 'Emma', 'salary': 8000},\n",
        "     'emp3': {'name': 'Brad', 'salary': 6500}\n",
        "}\n",
        "\n",
        "def ChangeSalaryByName(arr, name, newSalary):  \n",
        "  for emp in arr:\n",
        "    for emp2 in arr[emp]: \n",
        "      if emp2 == 'name':\n",
        "        if arr[emp][emp2]==name:\n",
        "          arr[emp]['salary']=newSalary\n",
        "\n",
        "ChangeSalaryByName(sampleDict,'Brad',8500)\n",
        "\n",
        "sampleDict\n"
      ],
      "execution_count": null,
      "outputs": [
        {
          "output_type": "execute_result",
          "data": {
            "text/plain": [
              "{'emp1': {'name': 'Jhon', 'salary': 7500},\n",
              " 'emp2': {'name': 'Emma', 'salary': 8000},\n",
              " 'emp3': {'name': 'Brad', 'salary': 8500}}"
            ]
          },
          "metadata": {
            "tags": []
          },
          "execution_count": 30
        }
      ]
    },
    {
      "cell_type": "markdown",
      "metadata": {
        "id": "FuPOQ7jj3Prc"
      },
      "source": [
        "```\n",
        "sampleDict = {\n",
        "     'emp1': {'name': 'Jhon', 'salary': 7500},\n",
        "     'emp2': {'name': 'Emma', 'salary': 8000},\n",
        "     'emp3': {'name': 'Brad', 'salary': 8500}\n",
        "}\n",
        "```"
      ]
    },
    {
      "cell_type": "markdown",
      "metadata": {
        "id": "52gflV9JosSz"
      },
      "source": [
        "# OOP\n",
        "\n"
      ]
    },
    {
      "cell_type": "markdown",
      "metadata": {
        "id": "tc8omotYowkO"
      },
      "source": [
        "#### B-1\n",
        "Điền vào các phương thức của lớp Line để chấp nhận tọa độ dưới dạng một cặp bộ giá trị và trả về độ dốc và khoảng cách của đường thẳng."
      ]
    },
    {
      "cell_type": "code",
      "metadata": {
        "id": "bT28n9T3ov4T"
      },
      "source": [
        "import math\n",
        "class Line:\n",
        "    \n",
        "    def __init__(self,coor1,coor2):\n",
        "        self.x1 = coor1[0]\n",
        "        self.y1 = coor1[1]\n",
        "        self.x2 = coor2[0]\n",
        "        self.y2 = coor2[1]\n",
        "    \n",
        "    def distance(self):\n",
        "        kc = math.sqrt(math.pow((self.x2-self.x1),2)+math.pow((self.y2-self.y1),2))\n",
        "        return kc \n",
        "    \n",
        "    def slope(self): # (y2-y1)/(x2-x1)\n",
        "        result = round(math.tan((self.y2 - self.y1)/(self.x2 - self.x1)), 2)\n",
        "        return abs(result)"
      ],
      "execution_count": 36,
      "outputs": []
    },
    {
      "cell_type": "code",
      "metadata": {
        "id": "BUVkRmv-o_m6"
      },
      "source": [
        "# EXAMPLE OUTPUT\n",
        "\n",
        "coordinate1 = (3,2)\n",
        "coordinate2 = (8,10)\n",
        "\n",
        "li = Line(coordinate1,coordinate2)"
      ],
      "execution_count": 37,
      "outputs": []
    },
    {
      "cell_type": "code",
      "metadata": {
        "id": "ApDPteErpAEn",
        "outputId": "6d7f5f9c-755b-485a-a8d5-176ced635e1b",
        "colab": {
          "base_uri": "https://localhost:8080/",
          "height": 34
        }
      },
      "source": [
        "li.distance()"
      ],
      "execution_count": 38,
      "outputs": [
        {
          "output_type": "execute_result",
          "data": {
            "text/plain": [
              "9.433981132056603"
            ]
          },
          "metadata": {
            "tags": []
          },
          "execution_count": 38
        }
      ]
    },
    {
      "cell_type": "code",
      "metadata": {
        "id": "KVOOJSsYpDus",
        "outputId": "9cc57f3f-63af-452f-983e-243315743e19",
        "colab": {
          "base_uri": "https://localhost:8080/",
          "height": 34
        }
      },
      "source": [
        "li.slope()"
      ],
      "execution_count": 39,
      "outputs": [
        {
          "output_type": "execute_result",
          "data": {
            "text/plain": [
              "34.23"
            ]
          },
          "metadata": {
            "tags": []
          },
          "execution_count": 39
        }
      ]
    },
    {
      "cell_type": "markdown",
      "metadata": {
        "id": "vA43zn2upHr3"
      },
      "source": [
        "### B-2\n",
        "Hình trụ"
      ]
    },
    {
      "cell_type": "code",
      "metadata": {
        "id": "WSrnmxd8OOin"
      },
      "source": [
        "import math\n",
        "class Cylinder:\n",
        "    \n",
        "    def __init__(self,height=1,radius=1):\n",
        "        self.height = height\n",
        "        self.radius = radius\n",
        "        \n",
        "    def volume(self): # thể tích\n",
        "        result = math.pow(self.radius,2) * math.pi * self.height\n",
        "        return result   "
      ],
      "execution_count": 24,
      "outputs": []
    },
    {
      "cell_type": "code",
      "metadata": {
        "id": "b1NduZJhrYAU"
      },
      "source": [
        "# EXAMPLE OUTPUT\n",
        "\n",
        "c = Cylinder(2,3)"
      ],
      "execution_count": 25,
      "outputs": []
    },
    {
      "cell_type": "code",
      "metadata": {
        "id": "0cZ9_hZ-rZ27",
        "outputId": "115af627-7167-434e-a944-9ff13bb28f69",
        "colab": {
          "base_uri": "https://localhost:8080/",
          "height": 34
        }
      },
      "source": [
        "c.volume()"
      ],
      "execution_count": 26,
      "outputs": [
        {
          "output_type": "execute_result",
          "data": {
            "text/plain": [
              "56.548667764616276"
            ]
          },
          "metadata": {
            "tags": []
          },
          "execution_count": 26
        }
      ]
    }
  ]
}