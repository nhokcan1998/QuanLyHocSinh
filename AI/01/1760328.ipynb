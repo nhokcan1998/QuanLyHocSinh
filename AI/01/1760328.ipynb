{
  "nbformat": 4,
  "nbformat_minor": 0,
  "metadata": {
    "colab": {
      "name": "Copy of Ôn tập python.ipynb",
      "provenance": [],
      "collapsed_sections": [
        "9xoz4mH7ErPe",
        "2tzNYzqDFblj",
        "at_qV3d4F9Hd",
        "e5F11eOXGbEj",
        "hCxbaPWdGzYd",
        "8wMKtRhcHI0q",
        "ZhqJjnk8JB0n",
        "jsyxGlKSJhsa",
        "SE9hZsoHKb3X"
      ]
    },
    "kernelspec": {
      "name": "python3",
      "display_name": "Python 3"
    }
  },
  "cells": [
    {
      "cell_type": "markdown",
      "metadata": {
        "id": "SwPV2v_aEj57"
      },
      "source": [
        "# Ôn tập python"
      ]
    },
    {
      "cell_type": "markdown",
      "metadata": {
        "id": "9f4KNuVVIh8o"
      },
      "source": [
        "## Statements "
      ]
    },
    {
      "cell_type": "markdown",
      "metadata": {
        "id": "9xoz4mH7ErPe"
      },
      "source": [
        "#### 1. Sử dụng `for`, `.slpit()`, và `if` để để in ra tất cả các từ bắt đầu bằng 's'"
      ]
    },
    {
      "cell_type": "code",
      "metadata": {
        "id": "4aTIKuQYFAXD"
      },
      "source": [
        "st = 'Print only the words that start with s in this sentence'"
      ],
      "execution_count": null,
      "outputs": []
    },
    {
      "cell_type": "code",
      "metadata": {
        "id": "auXXGzxkEp-T",
        "outputId": "3cdaddf1-283c-47ab-ae69-9766751e58f1",
        "colab": {
          "base_uri": "https://localhost:8080/",
          "height": 67
        }
      },
      "source": [
        "# TODO: code\n",
        "x = st.split(); #string.split(\"-\", 1000);\n",
        "\n",
        "for item in x:\n",
        "  if(item[0] == \"s\"):\n",
        "    print(item);"
      ],
      "execution_count": null,
      "outputs": [
        {
          "output_type": "stream",
          "text": [
            "start\n",
            "s\n",
            "sentence\n"
          ],
          "name": "stdout"
        }
      ]
    },
    {
      "cell_type": "markdown",
      "metadata": {
        "id": "2tzNYzqDFblj"
      },
      "source": [
        "#### 2. Sử dụng `range()` để in tất cả các số lẻ từ 0 -> 100"
      ]
    },
    {
      "cell_type": "code",
      "metadata": {
        "id": "BEqwtaokEa3b",
        "outputId": "7847d4eb-3bcf-4c5b-ef92-1e1672e8f79a",
        "colab": {
          "base_uri": "https://localhost:8080/",
          "height": 857
        }
      },
      "source": [
        "# TODO: code\n",
        "for num in range(0, 101):\n",
        "  if numt%2!=0:\n",
        "    print(num);"
      ],
      "execution_count": null,
      "outputs": [
        {
          "output_type": "stream",
          "text": [
            "1\n",
            "3\n",
            "5\n",
            "7\n",
            "9\n",
            "11\n",
            "13\n",
            "15\n",
            "17\n",
            "19\n",
            "21\n",
            "23\n",
            "25\n",
            "27\n",
            "29\n",
            "31\n",
            "33\n",
            "35\n",
            "37\n",
            "39\n",
            "41\n",
            "43\n",
            "45\n",
            "47\n",
            "49\n",
            "51\n",
            "53\n",
            "55\n",
            "57\n",
            "59\n",
            "61\n",
            "63\n",
            "65\n",
            "67\n",
            "69\n",
            "71\n",
            "73\n",
            "75\n",
            "77\n",
            "79\n",
            "81\n",
            "83\n",
            "85\n",
            "87\n",
            "89\n",
            "91\n",
            "93\n",
            "95\n",
            "97\n",
            "99\n"
          ],
          "name": "stdout"
        }
      ]
    },
    {
      "cell_type": "markdown",
      "metadata": {
        "id": "XoljMgr1Frb2"
      },
      "source": [
        "In tất cả số có các chữ số bằng nhau trong khoảng 1 -> 10000\n",
        "Ví dụ: 2, 3, 11,..."
      ]
    },
    {
      "cell_type": "code",
      "metadata": {
        "id": "yOl2xeWAFoof"
      },
      "source": [
        "# TODO: code"
      ],
      "execution_count": null,
      "outputs": []
    },
    {
      "cell_type": "markdown",
      "metadata": {
        "id": "at_qV3d4F9Hd"
      },
      "source": [
        "#### 3. Sử dụng List Comprehension để tạo một mảng của tất cả các số chia hết cho 3 trong khoảng 10 -> 501"
      ]
    },
    {
      "cell_type": "code",
      "metadata": {
        "id": "8pyjAq2QGWXf",
        "outputId": "1d30e260-2319-4dad-93d1-11270ec82837",
        "colab": {
          "base_uri": "https://localhost:8080/",
          "height": 54
        }
      },
      "source": [
        "# TODO: code\n",
        "num = [x for x in range(10, 502) if x%3==0];\n",
        "print(num);"
      ],
      "execution_count": null,
      "outputs": [
        {
          "output_type": "stream",
          "text": [
            "[12, 15, 18, 21, 24, 27, 30, 33, 36, 39, 42, 45, 48, 51, 54, 57, 60, 63, 66, 69, 72, 75, 78, 81, 84, 87, 90, 93, 96, 99, 102, 105, 108, 111, 114, 117, 120, 123, 126, 129, 132, 135, 138, 141, 144, 147, 150, 153, 156, 159, 162, 165, 168, 171, 174, 177, 180, 183, 186, 189, 192, 195, 198, 201, 204, 207, 210, 213, 216, 219, 222, 225, 228, 231, 234, 237, 240, 243, 246, 249, 252, 255, 258, 261, 264, 267, 270, 273, 276, 279, 282, 285, 288, 291, 294, 297, 300, 303, 306, 309, 312, 315, 318, 321, 324, 327, 330, 333, 336, 339, 342, 345, 348, 351, 354, 357, 360, 363, 366, 369, 372, 375, 378, 381, 384, 387, 390, 393, 396, 399, 402, 405, 408, 411, 414, 417, 420, 423, 426, 429, 432, 435, 438, 441, 444, 447, 450, 453, 456, 459, 462, 465, 468, 471, 474, 477, 480, 483, 486, 489, 492, 495, 498, 501]\n"
          ],
          "name": "stdout"
        }
      ]
    },
    {
      "cell_type": "markdown",
      "metadata": {
        "id": "e5F11eOXGbEj"
      },
      "source": [
        "#### 4. Duyệt chuỗi bên dưới và nếu độ dài của một từ là chẵn thì in \"even!\""
      ]
    },
    {
      "cell_type": "code",
      "metadata": {
        "id": "vH7UCRBVGaWr"
      },
      "source": [
        "st = 'Print every word in this sentence that has an even number of letters'"
      ],
      "execution_count": null,
      "outputs": []
    },
    {
      "cell_type": "code",
      "metadata": {
        "id": "kC_tpXLsGsqW",
        "outputId": "35794b1b-f211-49a7-8572-3a14834ac007",
        "colab": {
          "base_uri": "https://localhost:8080/",
          "height": 118
        }
      },
      "source": [
        "# TODO: code\n",
        "\n",
        "x = st.split();\n",
        "for item in x:\n",
        "  if len(item)%2==0:\n",
        "    print(item + \" : even!\")"
      ],
      "execution_count": null,
      "outputs": [
        {
          "output_type": "stream",
          "text": [
            "only : even!\n",
            "that : even!\n",
            "with : even!\n",
            "in : even!\n",
            "this : even!\n",
            "sentence : even!\n"
          ],
          "name": "stdout"
        }
      ]
    },
    {
      "cell_type": "markdown",
      "metadata": {
        "id": "hCxbaPWdGzYd"
      },
      "source": [
        "#### 5. Viết chương trình in ra các số nguyên từ 1 đến 100. Nhưng đối với bội số của ba thì in \"Fizz\" thay vì số và đối với bội số của năm thì in \"Buzz\". Đối với các số là bội số của cả ba và năm, hãy in \"FizzBuzz\"."
      ]
    },
    {
      "cell_type": "code",
      "metadata": {
        "id": "ZqxL_jFIHAVH",
        "outputId": "ac8a73d0-29c5-4648-fdcc-f8cd4376c624",
        "colab": {
          "base_uri": "https://localhost:8080/",
          "height": 1000
        }
      },
      "source": [
        "# TODO: code\n",
        "for num in range(1, 101):\n",
        "  if num%3==0 and num%5==0:\n",
        "    print(\"FizzBuzz\");\n",
        "  elif num%3==0:\n",
        "    print(\"Fizz\");\n",
        "  elif num%5==0:\n",
        "    print(\"Buzz\");\n",
        "  else:\n",
        "    print(num);"
      ],
      "execution_count": null,
      "outputs": [
        {
          "output_type": "stream",
          "text": [
            "1\n",
            "2\n",
            "Fizz\n",
            "4\n",
            "Buzz\n",
            "Fizz\n",
            "7\n",
            "8\n",
            "Fizz\n",
            "Buzz\n",
            "11\n",
            "Fizz\n",
            "13\n",
            "14\n",
            "FizzBuzz\n",
            "16\n",
            "17\n",
            "Fizz\n",
            "19\n",
            "Buzz\n",
            "Fizz\n",
            "22\n",
            "23\n",
            "Fizz\n",
            "Buzz\n",
            "26\n",
            "Fizz\n",
            "28\n",
            "29\n",
            "FizzBuzz\n",
            "31\n",
            "32\n",
            "Fizz\n",
            "34\n",
            "Buzz\n",
            "Fizz\n",
            "37\n",
            "38\n",
            "Fizz\n",
            "Buzz\n",
            "41\n",
            "Fizz\n",
            "43\n",
            "44\n",
            "FizzBuzz\n",
            "46\n",
            "47\n",
            "Fizz\n",
            "49\n",
            "Buzz\n",
            "Fizz\n",
            "52\n",
            "53\n",
            "Fizz\n",
            "Buzz\n",
            "56\n",
            "Fizz\n",
            "58\n",
            "59\n",
            "FizzBuzz\n",
            "61\n",
            "62\n",
            "Fizz\n",
            "64\n",
            "Buzz\n",
            "Fizz\n",
            "67\n",
            "68\n",
            "Fizz\n",
            "Buzz\n",
            "71\n",
            "Fizz\n",
            "73\n",
            "74\n",
            "FizzBuzz\n",
            "76\n",
            "77\n",
            "Fizz\n",
            "79\n",
            "Buzz\n",
            "Fizz\n",
            "82\n",
            "83\n",
            "Fizz\n",
            "Buzz\n",
            "86\n",
            "Fizz\n",
            "88\n",
            "89\n",
            "FizzBuzz\n",
            "91\n",
            "92\n",
            "Fizz\n",
            "94\n",
            "Buzz\n",
            "Fizz\n",
            "97\n",
            "98\n",
            "Fizz\n",
            "Buzz\n"
          ],
          "name": "stdout"
        }
      ]
    },
    {
      "cell_type": "markdown",
      "metadata": {
        "id": "8wMKtRhcHI0q"
      },
      "source": [
        "#### 6. Sử dụng List Comprehension để tạo danh sách các chữ cái đầu tiên của mỗi từ trong chuỗi bên dưới:"
      ]
    },
    {
      "cell_type": "code",
      "metadata": {
        "id": "AKQIAMh_HIJm"
      },
      "source": [
        "st = 'Create a list of the first letters of every word in this string'"
      ],
      "execution_count": null,
      "outputs": []
    },
    {
      "cell_type": "code",
      "metadata": {
        "id": "tgTBlP4ZHbPp",
        "outputId": "d847d48f-2362-48c7-852b-13f43e162aa9",
        "colab": {
          "base_uri": "https://localhost:8080/",
          "height": 34
        }
      },
      "source": [
        "# TODO: code\n",
        "st = 'Create a list of the first letters of every word in this string';\n",
        "arr = [x[0] for x in st.split()];\n",
        "print(arr);"
      ],
      "execution_count": 4,
      "outputs": [
        {
          "output_type": "stream",
          "text": [
            "['C', 'a', 'l', 'o', 't', 'f', 'l', 'o', 'e', 'w', 'i', 't', 's']\n"
          ],
          "name": "stdout"
        }
      ]
    },
    {
      "cell_type": "markdown",
      "metadata": {
        "id": "GtMF5K4LHeHs"
      },
      "source": [
        "## Functions"
      ]
    },
    {
      "cell_type": "markdown",
      "metadata": {
        "id": "KwKDavjxI47K"
      },
      "source": [
        "### Khởi động"
      ]
    },
    {
      "cell_type": "markdown",
      "metadata": {
        "id": "ZhqJjnk8JB0n"
      },
      "source": [
        "#### 1.\n",
        "**ANIMAL CRACKERS**: Viết một hàm nhận vào hai chữ và trả về `True` nếu cả hai chữ bắt đầu cùng ký tự.\n",
        "```python\n",
        "    animal_crackers('Levelheaded Llama') --> True\n",
        "    animal_crackers('Crazy Kangaroo') --> False\n",
        "```"
      ]
    },
    {
      "cell_type": "code",
      "metadata": {
        "id": "EtkqLUnoHc-Z",
        "outputId": "ec36abe6-0ae2-4a36-a6e8-eed139014913",
        "colab": {
          "base_uri": "https://localhost:8080/",
          "height": 50
        }
      },
      "source": [
        "def animal_crackers(str):\n",
        "    arr = str.split();\n",
        "    if len(arr)>2:\n",
        "      pass\n",
        "    else:\n",
        "      if arr[0][0] == arr[1][0]:\n",
        "        return True;\n",
        "      else: \n",
        "        return False;\n",
        "    # TODO: code\n",
        "check = animal_crackers('Levelheaded Llama');\n",
        "print(check);\n",
        "check = animal_crackers('Crazy Kangaroo');\n",
        "print(check);\n"
      ],
      "execution_count": 14,
      "outputs": [
        {
          "output_type": "stream",
          "text": [
            "True\n",
            "False\n"
          ],
          "name": "stdout"
        }
      ]
    },
    {
      "cell_type": "code",
      "metadata": {
        "id": "0dJyTZsWJa5z"
      },
      "source": [
        "# Check\n",
        "animal_crackers('Levelheaded Llama')"
      ],
      "execution_count": 2,
      "outputs": []
    },
    {
      "cell_type": "code",
      "metadata": {
        "id": "IDSgK6IZJdoy"
      },
      "source": [
        "# Check\n",
        "animal_crackers('Crazy Kangaroo')"
      ],
      "execution_count": 3,
      "outputs": []
    },
    {
      "cell_type": "markdown",
      "metadata": {
        "id": "jsyxGlKSJhsa"
      },
      "source": [
        "#### 2.\n",
        "**MAKES TWENTY**: Cho hai số nguyên, trả về `True` nếu tổng của hai số là 20 *hoặc* nếu một trong hai số là 20. Ngược lại trả về `False`. \n",
        "```python\n",
        "    makes_twenty(20,10) --> True\n",
        "    makes_twenty(12,8) --> True\n",
        "    makes_twenty(2,3) --> False\n",
        "```"
      ]
    },
    {
      "cell_type": "code",
      "metadata": {
        "id": "-6D_ddZzJ9s2",
        "outputId": "d6bf0bf2-8a10-462f-a762-97679b85dddb",
        "colab": {
          "base_uri": "https://localhost:8080/",
          "height": 50
        }
      },
      "source": [
        "def makes_twenty(x,y):\n",
        "  pass\n",
        "  # TODO: code\n",
        "  if x==20 or y==20 or (x+y==20):\n",
        "    return True;\n",
        "  else: \n",
        "    return False;\n",
        "  \n",
        "\n",
        "check = makes_twenty(20,10);\n",
        "print(check);\n",
        "check = makes_twenty(2,3);\n",
        "print(check);"
      ],
      "execution_count": 24,
      "outputs": [
        {
          "output_type": "stream",
          "text": [
            "True\n",
            "False\n"
          ],
          "name": "stdout"
        }
      ]
    },
    {
      "cell_type": "code",
      "metadata": {
        "id": "pNQAmUwOJ_Ni",
        "outputId": "fffd094b-542d-41ef-f3f0-6203fc0517fb",
        "colab": {
          "base_uri": "https://localhost:8080/",
          "height": 34
        }
      },
      "source": [
        "# Check\n",
        "makes_twenty(20,10)"
      ],
      "execution_count": 25,
      "outputs": [
        {
          "output_type": "execute_result",
          "data": {
            "text/plain": [
              "True"
            ]
          },
          "metadata": {
            "tags": []
          },
          "execution_count": 25
        }
      ]
    },
    {
      "cell_type": "code",
      "metadata": {
        "id": "ylvQz-Z_KBuN",
        "outputId": "7a41f15f-ddeb-49ab-a975-02888999ad17",
        "colab": {
          "base_uri": "https://localhost:8080/",
          "height": 34
        }
      },
      "source": [
        "# Check\n",
        "makes_twenty(2,3)"
      ],
      "execution_count": 26,
      "outputs": [
        {
          "output_type": "execute_result",
          "data": {
            "text/plain": [
              "False"
            ]
          },
          "metadata": {
            "tags": []
          },
          "execution_count": 26
        }
      ]
    },
    {
      "cell_type": "markdown",
      "metadata": {
        "id": "iEHppb38KIPn"
      },
      "source": [
        "### Bài tập"
      ]
    },
    {
      "cell_type": "markdown",
      "metadata": {
        "id": "SE9hZsoHKb3X"
      },
      "source": [
        "#### 1.\n",
        "**MASTER YODA**: Đưa một câu, trả về một câu với các từ đảo ngược\n",
        "```python\n",
        "    master_yoda('I am home') --> 'home am I'\n",
        "    master_yoda('We are ready') --> 'ready are We'\n",
        "```"
      ]
    },
    {
      "cell_type": "markdown",
      "metadata": {
        "id": "qzrd3PpkK_HW"
      },
      "source": [
        "**Lưu ý:** Phương thức `.join ()` có thể hữu ích. Phương thức `.join ()` cho phép bạn nối các chuỗi lại với nhau trong một danh sách với một số chuỗi kết nối. Ví dụ, một số cách sử dụng phương thức `.join ()`:\n",
        "```\n",
        ">>> \"--\".join(['a','b','c'])\n",
        ">>> 'a--b--c'\n",
        "```\n",
        "Có nghĩa là nếu bạn có một danh sách các từ bạn muốn chuyển lại thành một câu, bạn chỉ có thể nối chúng bằng một chuỗi dấu cách:\n",
        "```\n",
        ">>> \" \".join(['Hello','world'])\n",
        ">>> \"Hello world\"\n",
        "```"
      ]
    },
    {
      "cell_type": "code",
      "metadata": {
        "id": "i0IsyyHyKKWg"
      },
      "source": [
        "def master_yoda(str):\n",
        "    pass\n",
        "    # TODO: code\n",
        "    result = \"\";\n",
        "    arr = str.split();\n",
        "    temp = [];\n",
        "    i = len(arr);\n",
        "    while True:\n",
        "      i-=1;\n",
        "      temp.append(arr[i]);\n",
        "      if(i <= 0):\n",
        "        break;\n",
        "    result = \" \".join(temp);\n",
        "    return result;"
      ],
      "execution_count": 51,
      "outputs": []
    },
    {
      "cell_type": "code",
      "metadata": {
        "id": "h16KioubKybW",
        "outputId": "81b977b7-9fe6-46d8-93c2-d25f9306690d",
        "colab": {
          "base_uri": "https://localhost:8080/",
          "height": 35
        }
      },
      "source": [
        "# Check\n",
        "master_yoda('I am home')"
      ],
      "execution_count": 52,
      "outputs": [
        {
          "output_type": "execute_result",
          "data": {
            "application/vnd.google.colaboratory.intrinsic+json": {
              "type": "string"
            },
            "text/plain": [
              "'home am I'"
            ]
          },
          "metadata": {
            "tags": []
          },
          "execution_count": 52
        }
      ]
    },
    {
      "cell_type": "code",
      "metadata": {
        "id": "yDo_yfG2K1KO",
        "outputId": "65438071-e0d5-4c5f-bce5-43c46a22cef2",
        "colab": {
          "base_uri": "https://localhost:8080/",
          "height": 35
        }
      },
      "source": [
        "# Check\n",
        "master_yoda('We are ready')"
      ],
      "execution_count": 53,
      "outputs": [
        {
          "output_type": "execute_result",
          "data": {
            "application/vnd.google.colaboratory.intrinsic+json": {
              "type": "string"
            },
            "text/plain": [
              "'ready are We'"
            ]
          },
          "metadata": {
            "tags": []
          },
          "execution_count": 53
        }
      ]
    },
    {
      "cell_type": "markdown",
      "metadata": {
        "id": "2D_1iQ_0LhhR"
      },
      "source": [
        "#### 2.\n",
        "**BLACKJACK**: Cho ba số nguyên từ 1 đến 11, nếu tổng của chúng nhỏ hơn hoặc bằng 21, hãy trả về tổng của chúng. Nếu tổng của chúng vượt quá 21 *và* có số mười một, hãy giảm tổng số đi 10. Cuối cùng, nếu tổng (ngay cả sau khi điều chỉnh) vượt quá 21, hãy trả về 'BUST'\n",
        "```\n",
        "     blackjack(5,6,7) -> 18\n",
        "     blackjack(9,9,9) -> 'BUST'\n",
        "     blackjack(9,9,11) -> 19\n",
        "```"
      ]
    },
    {
      "cell_type": "code",
      "metadata": {
        "id": "trf26QM3MLRL"
      },
      "source": [
        "def blackjack(a,b,c):\n",
        "    pass\n",
        "    # TODO: code\n",
        "    result = a + b + c;\n",
        "    if result<3:\n",
        "      return -1;\n",
        "    elif result<=21:\n",
        "      return result;\n",
        "    elif result>21 and (a==11 or b==11 or c==11):\n",
        "      result-=10;\n",
        "      if result>21:\n",
        "        return \"BUST\";\n",
        "    elif result>21: \n",
        "      return \"BUST\";\n",
        "    return result;\n"
      ],
      "execution_count": 62,
      "outputs": []
    },
    {
      "cell_type": "code",
      "metadata": {
        "id": "Clf38UpGMOYr",
        "outputId": "2c2d6f6d-44ee-4dc2-ec20-8ae20dcb2030",
        "colab": {
          "base_uri": "https://localhost:8080/",
          "height": 34
        }
      },
      "source": [
        "# Check\n",
        "blackjack(5,6,7)"
      ],
      "execution_count": 65,
      "outputs": [
        {
          "output_type": "execute_result",
          "data": {
            "text/plain": [
              "18"
            ]
          },
          "metadata": {
            "tags": []
          },
          "execution_count": 65
        }
      ]
    },
    {
      "cell_type": "code",
      "metadata": {
        "id": "ekqiy6wCMQpS",
        "outputId": "65696867-bcf5-4095-eccc-93daab3b1ac0",
        "colab": {
          "base_uri": "https://localhost:8080/",
          "height": 35
        }
      },
      "source": [
        "# Check\n",
        "blackjack(9,9,9)"
      ],
      "execution_count": 64,
      "outputs": [
        {
          "output_type": "execute_result",
          "data": {
            "application/vnd.google.colaboratory.intrinsic+json": {
              "type": "string"
            },
            "text/plain": [
              "'BUST'"
            ]
          },
          "metadata": {
            "tags": []
          },
          "execution_count": 64
        }
      ]
    },
    {
      "cell_type": "code",
      "metadata": {
        "id": "Kmok6dbjMSKL",
        "outputId": "8245f52e-abb5-4927-d39b-1caad25a1a6d",
        "colab": {
          "base_uri": "https://localhost:8080/",
          "height": 34
        }
      },
      "source": [
        "# Check\n",
        "blackjack(9,9,11)"
      ],
      "execution_count": 63,
      "outputs": [
        {
          "output_type": "execute_result",
          "data": {
            "text/plain": [
              "19"
            ]
          },
          "metadata": {
            "tags": []
          },
          "execution_count": 63
        }
      ]
    },
    {
      "cell_type": "markdown",
      "metadata": {
        "id": "M4f_nyvZNIlt"
      },
      "source": [
        "#### 3.\n",
        "**COUNT PRIMES**: Viết hàm in ra và trả về  *số lượng* số nguyên tố tồn tại không vượt quá `num`.\n",
        "```\n",
        "     count_primes (100) -> 25\n",
        "```\n",
        "Quy ước, 0 và 1 không phải là số nguyên tố."
      ]
    },
    {
      "cell_type": "code",
      "metadata": {
        "id": "jM6aLeD4NWhb"
      },
      "source": [
        "def count_primes(num):\n",
        "    pass\n",
        "    # TODO: code\n",
        "    iCount=0;\n",
        "    if num<=1:\n",
        "      return 0;\n",
        "    else:\n",
        "      for item in range(2, num+1):\n",
        "        if item==2:\n",
        "           iCount+=1;\n",
        "        else:\n",
        "          iCount+=1;\n",
        "          for item2 in range(2, item):\n",
        "            if item%item2==0:\n",
        "              iCount-=1;\n",
        "              break;\n",
        "            else:\n",
        "              continue;\n",
        "          \n",
        "\n",
        "    return iCount;\n",
        "                "
      ],
      "execution_count": 110,
      "outputs": []
    },
    {
      "cell_type": "code",
      "metadata": {
        "id": "v7kfLMEwNjX_",
        "outputId": "352fe229-06ef-4274-fb94-a78324597d5e",
        "colab": {
          "base_uri": "https://localhost:8080/",
          "height": 34
        }
      },
      "source": [
        "# Check\n",
        "count_primes(100)"
      ],
      "execution_count": 111,
      "outputs": [
        {
          "output_type": "execute_result",
          "data": {
            "text/plain": [
              "25"
            ]
          },
          "metadata": {
            "tags": []
          },
          "execution_count": 111
        }
      ]
    },
    {
      "cell_type": "code",
      "metadata": {
        "id": "bpumsKYoT8M1"
      },
      "source": [
        ""
      ],
      "execution_count": null,
      "outputs": []
    }
  ]
}